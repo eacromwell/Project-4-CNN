{
 "cells": [
  {
   "cell_type": "code",
   "execution_count": 1,
   "id": "973df7ac",
   "metadata": {},
   "outputs": [],
   "source": [
    "import tensorflow as tf\n",
    "import tensorflow_datasets as tfds\n",
    "import numpy as np\n",
    "import matplotlib.pyplot as plt\n",
    "from tensorflow.keras import layers, models\n",
    "from tensorflow.keras.models import load_model\n",
    "from tensorflow.keras.preprocessing.image import load_img, img_to_array\n",
    "from tqdm import tqdm  # Import tqdm\n",
    "\n",
    "# Step 1: Load the dataset and split it into training and validation sets\n",
    "(ds_train, ds_validation), info = tfds.load('food101', split=['train', 'validation'], as_supervised=True, with_info=True, download=True)\n",
    "\n",
    "# Step 2: Filter out images except for \"pizza\" and \"tacos\"\n",
    "def filter_categories(image, label):\n",
    "    # Keep only images with \"pizza\" or \"tacos\" labels (labels 76 and 96 in Food101 dataset)\n",
    "    return label == 76 or label == 96\n",
    "\n",
    "# Apply the filter to training and validation sets\n",
    "ds_train_filtered = ds_train.filter(filter_categories)\n",
    "ds_validation_filtered = ds_validation.filter(filter_categories)"
   ]
  },
  {
   "cell_type": "code",
   "execution_count": 2,
   "id": "4c891209",
   "metadata": {},
   "outputs": [
    {
     "name": "stderr",
     "output_type": "stream",
     "text": [
      "Counting train set: 1500it [00:23, 64.94it/s]\n",
      "Counting validation set: 500it [00:09, 54.91it/s]\n"
     ]
    }
   ],
   "source": [
    "# Workaround to count the number of elements in the filtered datasets with a progress bar\n",
    "num_train_filtered = sum(1 for _ in tqdm(ds_train_filtered, desc=\"Counting train set\"))\n",
    "num_validation_filtered = sum(1 for _ in tqdm(ds_validation_filtered, desc=\"Counting validation set\"))"
   ]
  },
  {
   "cell_type": "code",
   "execution_count": 3,
   "id": "156919a0",
   "metadata": {},
   "outputs": [
    {
     "name": "stdout",
     "output_type": "stream",
     "text": [
      "Number of 'pizza' and 'tacos' images in the filtered train set: 1500\n",
      "Number of 'pizza' and 'tacos' images in the filtered validation set: 500\n"
     ]
    }
   ],
   "source": [
    "print(\"Number of 'pizza' and 'tacos' images in the filtered train set:\", num_train_filtered)\n",
    "print(\"Number of 'pizza' and 'tacos' images in the filtered validation set:\", num_validation_filtered)"
   ]
  },
  {
   "cell_type": "code",
   "execution_count": 4,
   "id": "24d31c60",
   "metadata": {},
   "outputs": [
    {
     "name": "stdout",
     "output_type": "stream",
     "text": [
      "Dataset data directory: C:\\Users\\eacro\\tensorflow_datasets\\food101\\2.0.0\n"
     ]
    }
   ],
   "source": [
    "# Access the Food101 dataset builder\n",
    "builder = tfds.builder('food101')\n",
    "\n",
    "# Print the data directory\n",
    "print(\"Dataset data directory:\", builder.data_dir)"
   ]
  },
  {
   "cell_type": "code",
   "execution_count": 5,
   "id": "b2bf283f",
   "metadata": {},
   "outputs": [],
   "source": [
    "# Define model architecture\n",
    "model = models.Sequential([\n",
    "    layers.Conv2D(32, (3, 3), activation='relu', input_shape=(128, 128, 3)),\n",
    "    layers.MaxPooling2D((2, 2)),\n",
    "    layers.Conv2D(64, (3, 3), activation='relu'),\n",
    "    layers.MaxPooling2D((2, 2)),\n",
    "    layers.Conv2D(128, (3, 3), activation='relu'),\n",
    "    layers.MaxPooling2D((2, 2)),\n",
    "    layers.Flatten(),\n",
    "    layers.Dense(256, activation='relu'),\n",
    "    layers.Dropout(0.5),\n",
    "    layers.Dense(2, activation='softmax')  # 2 classes: 'pizza' and 'tacos'\n",
    "])\n",
    "\n",
    "# Compile the model\n",
    "model.compile(optimizer='adam',\n",
    "              loss='sparse_categorical_crossentropy',\n",
    "              metrics=['accuracy'])\n",
    "\n",
    "# Set batch size and number of epochs\n",
    "BATCH_SIZE = 32\n",
    "NUM_EPOCHS = 10"
   ]
  },
  {
   "cell_type": "code",
   "execution_count": 6,
   "id": "1fe4bf30",
   "metadata": {},
   "outputs": [],
   "source": [
    "def preprocess(image, label):\n",
    "    image = tf.image.resize(image, (128, 128))\n",
    "    image = tf.cast(image, tf.float32) / 255.0\n",
    "    \n",
    "    # Map original labels (76 and 96) to correct labels (0 and 1)\n",
    "    label = tf.cast(label, tf.int32)  # Ensure label is int32\n",
    "    label = tf.where(label == 76, 0, label)\n",
    "    label = tf.where(label == 96, 1, label)\n",
    "    \n",
    "    return image, label\n",
    "# Apply preprocessing to datasets\n",
    "ds_train = ds_train_filtered.map(preprocess).shuffle(buffer_size=1000).batch(BATCH_SIZE)\n",
    "ds_validation = ds_validation_filtered.map(preprocess).batch(BATCH_SIZE)"
   ]
  },
  {
   "cell_type": "code",
   "execution_count": null,
   "id": "a59d5e20",
   "metadata": {},
   "outputs": [
    {
     "name": "stdout",
     "output_type": "stream",
     "text": [
      "Epoch 1/10\n",
      "47/47 [==============================] - 66s 983ms/step - loss: 0.7345 - accuracy: 0.5440 - val_loss: 0.6669 - val_accuracy: 0.5740\n",
      "Epoch 2/10\n"
     ]
    }
   ],
   "source": [
    "# Train the model\n",
    "history = model.fit(ds_train, epochs=NUM_EPOCHS, validation_data=ds_validation)"
   ]
  },
  {
   "cell_type": "code",
   "execution_count": null,
   "id": "0ac6f18b",
   "metadata": {},
   "outputs": [],
   "source": [
    "# Evaluate the model on the validation set\n",
    "validation_loss, validation_accuracy = model.evaluate(ds_validation)\n",
    "print(\"Validation accuracy:\", validation_accuracy)"
   ]
  },
  {
   "cell_type": "code",
   "execution_count": null,
   "id": "09763c01",
   "metadata": {},
   "outputs": [],
   "source": [
    "# Plot training and validation accuracy\n",
    "plt.figure(figsize=(10, 6))\n",
    "plt.plot(history.history['accuracy'], label='Train Accuracy')\n",
    "plt.plot(history.history['val_accuracy'], label='Validation Accuracy')\n",
    "plt.title('Train and Validation Accuracy')\n",
    "plt.xlabel('Epoch')\n",
    "plt.ylabel('Accuracy')\n",
    "plt.legend()\n",
    "plt.show()"
   ]
  },
  {
   "cell_type": "code",
   "execution_count": null,
   "id": "fcb5bc8f",
   "metadata": {},
   "outputs": [],
   "source": [
    "# After training your model\n",
    "model.save('model/food_model.keras')"
   ]
  },
  {
   "cell_type": "code",
   "execution_count": null,
   "id": "7a1749b6",
   "metadata": {},
   "outputs": [],
   "source": [
    "loaded_model = load_model('model/food_model.keras')\n",
    "\n",
    "# Load and preprocess the test image\n",
    "def preprocess_image(image_path):\n",
    "    img = load_img(image_path, target_size=(128, 128))\n",
    "    img_array = img_to_array(img)\n",
    "    img_array = np.expand_dims(img_array, axis=0)\n",
    "    img_array = img_array / 255.0\n",
    "    return img_array\n",
    "\n",
    "test_image_path = 'test_image/test.jpg'  # Replace 'path_to_test_image' with the path to your test image\n",
    "preprocessed_image = preprocess_image(test_image_path)\n",
    "\n",
    "# Display the preprocessed image\n",
    "plt.imshow(preprocessed_image[0])\n",
    "plt.title(\"Test Image\")\n",
    "plt.axis('off')\n",
    "plt.show()\n",
    "\n",
    "# Make predictions using the loaded model\n",
    "predictions = loaded_model.predict(preprocessed_image)\n",
    "\n",
    "# Interpret the predictions\n",
    "class_labels = ['pizza', 'tacos']\n",
    "predicted_class_index = np.argmax(predictions)\n",
    "predicted_class = class_labels[predicted_class_index]\n",
    "\n",
    "print(f\"Looks like {predicted_class}!\")"
   ]
  }
 ],
 "metadata": {
  "kernelspec": {
   "display_name": "Python 3 (ipykernel)",
   "language": "python",
   "name": "python3"
  },
  "language_info": {
   "codemirror_mode": {
    "name": "ipython",
    "version": 3
   },
   "file_extension": ".py",
   "mimetype": "text/x-python",
   "name": "python",
   "nbconvert_exporter": "python",
   "pygments_lexer": "ipython3",
   "version": "3.9.13"
  }
 },
 "nbformat": 4,
 "nbformat_minor": 5
}
